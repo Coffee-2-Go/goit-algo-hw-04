{
 "cells": [
  {
   "cell_type": "markdown",
   "metadata": {},
   "source": [
    "# 1 Домашнє завдання "
   ]
  },
  {
   "cell_type": "markdown",
   "metadata": {},
   "source": [
    "Порівняти три алгоритми сортування: злиттям, вставками та Timsort за часом виконання. \n",
    "\n",
    "Аналіз повинен бути підтверджений емпіричними даними, отриманими шляхом тестування алгоритмів на різних наборах даних. \n",
    "\n",
    "Емпірично перевірити теоретичні оцінки складності алгоритмів, наприклад, сортуванням на великих масивах. Для заміру часу виконання алгоритмів необхідно використати модуль timeit.\n",
    "\n",
    "\n",
    "Показати, що поєднання сортування злиттям і сортування вставками робить алгоритм Timsort набагато ефективнішим, і саме з цієї причини програмісти, в більшості випадків, використовують вбудовані в Python алгоритми, а не кодують самі. \n",
    "\n",
    "Зробити висновки."
   ]
  },
  {
   "cell_type": "markdown",
   "metadata": {},
   "source": [
    "1.1 Алгоритм сортування злиттям (Merge sort)"
   ]
  },
  {
   "cell_type": "code",
   "execution_count": 123,
   "metadata": {},
   "outputs": [],
   "source": [
    "import timeit\n",
    "import random\n",
    "\n",
    "\n",
    "def merge_sort(arr):\n",
    "    # Рекурсивне сортування злиттям\n",
    "    if len(arr) <= 1:\n",
    "        return arr\n",
    "\n",
    "    mid = len(arr) // 2\n",
    "    left_half = arr[:mid]\n",
    "    right_half = arr[mid:]\n",
    "\n",
    "    # Об'єднання та повернення відсортованого списку\n",
    "    return merge(merge_sort(left_half), merge_sort(right_half))\n",
    "\n",
    "def merge(left, right):\n",
    "    # Злиття двох відсортованих списків\n",
    "    merged = []\n",
    "    left_index, right_index = 0, 0\n",
    "\n",
    "     # Спочатку об'єдную менші елементи\n",
    "    while left_index < len(left) and right_index < len(right):\n",
    "        if left[left_index] <= right[right_index]:\n",
    "            merged.append(left[left_index])\n",
    "            left_index += 1\n",
    "        else:\n",
    "            merged.append(right[right_index])\n",
    "            right_index += 1\n",
    "\n",
    "    # Додавання залишкових елементів з лівого списку, якщо такі є\n",
    "    while left_index < len(left):\n",
    "        merged.append(left[left_index])\n",
    "        left_index += 1\n",
    "\n",
    "    # Додавання залишкових елементів з правого списку, якщо такі є\n",
    "    while right_index < len(right):\n",
    "        merged.append(right[right_index])\n",
    "        right_index += 1\n",
    "\n",
    "    # Повернення відсортованого об'єднаного списку\n",
    "    return merged"
   ]
  },
  {
   "cell_type": "markdown",
   "metadata": {},
   "source": [
    "1.2 Алгоритм сортування вставками (Insertion sort)"
   ]
  },
  {
   "cell_type": "code",
   "execution_count": 124,
   "metadata": {},
   "outputs": [],
   "source": [
    "def insertion_sort(arr):\n",
    "    for i in range(1, len(arr)):\n",
    "        key = arr[i]\n",
    "        j = i-1\n",
    "        while j >=0 and key < arr[j]:\n",
    "                arr[j+1] = arr[j]\n",
    "                j -= 1\n",
    "        arr[j+1] = key \n",
    "    return arr"
   ]
  },
  {
   "cell_type": "markdown",
   "metadata": {},
   "source": [
    "1.3 Генерація масиву цілих чисел для тестування"
   ]
  },
  {
   "cell_type": "code",
   "execution_count": 125,
   "metadata": {},
   "outputs": [],
   "source": [
    "arr_1 = [random.randint(0, 1000) for _ in range(10000)]\n",
    "arr_2 = [random.randint(0, 1000) for _ in range(1000)]\n",
    "arr_3 = [random.randint(0, 1000) for _ in range(100)]"
   ]
  },
  {
   "cell_type": "markdown",
   "metadata": {},
   "source": [
    "1.5 Замір часу для сортування вставками"
   ]
  },
  {
   "cell_type": "code",
   "execution_count": 126,
   "metadata": {},
   "outputs": [],
   "source": [
    "merge_sort_time_1 = timeit.timeit(lambda: merge_sort(arr_1), number=10)\n",
    "insertion_sort_time_1 = timeit.timeit(lambda: insertion_sort(arr_1), number=10)\n",
    "timsort_time_1 = timeit.timeit(lambda: sorted(arr_1), number=10)\n",
    "\n",
    "merge_sort_time_2 = timeit.timeit(lambda: merge_sort(arr_2), number=10)\n",
    "insertion_sort_time_2 = timeit.timeit(lambda: insertion_sort(arr_2), number=10)\n",
    "timsort_time_2 = timeit.timeit(lambda: sorted(arr_2), number=10)\n",
    "\n",
    "merge_sort_time_3 = timeit.timeit(lambda: merge_sort(arr_3), number=10)\n",
    "insertion_sort_time_3 = timeit.timeit(lambda: insertion_sort(arr_3), number=10)\n",
    "timsort_time_3 = timeit.timeit(lambda: sorted(arr_3), number=10)"
   ]
  },
  {
   "cell_type": "markdown",
   "metadata": {},
   "source": [
    "1.6 Виведення результатів"
   ]
  },
  {
   "cell_type": "code",
   "execution_count": 127,
   "metadata": {},
   "outputs": [
    {
     "name": "stdout",
     "output_type": "stream",
     "text": [
      "Час сортування злиттям, сек:   0.233525 | 0.015897 | 0.001074\n",
      "Час сортування вставками, сек: 2.066566 | 0.021213 | 0.000217\n",
      "Час сортування Timsort, сек:   0.000677 | 0.000065 | 0.000010\n"
     ]
    }
   ],
   "source": [
    "print(f\"Час сортування злиттям, сек:   {merge_sort_time_1:.6f} | {merge_sort_time_2:.6f} | {merge_sort_time_3:.6f}\")\n",
    "print(f\"Час сортування вставками, сек: {insertion_sort_time_1:.6f} | {insertion_sort_time_2:.6f} | {insertion_sort_time_3:.6f}\")\n",
    "print(f\"Час сортування Timsort, сек:   {timsort_time_1:.6f} | {timsort_time_2:.6f} | {timsort_time_3:.6f}\")"
   ]
  },
  {
   "cell_type": "markdown",
   "metadata": {},
   "source": [
    "\n",
    "# Висновки:\n",
    "З результатів емпіричних вимірів видно, що алгоритм Timsort (вбудований у функції sorted та sort в Python) працює набагато швидше за інші алгоритми сортування на великих масивах даних через те, що він реалізований на мові програмування С, на відміну від двох інших алгоритмів, які реалізовані безпосередньо на Python.\n",
    "\n",
    "В той же час сортування злиттям, яке має лінійно-логарифмічну складність, на середніх та великих об'ємах даних є значно ефективнішим за сортування вставками, яке має квадратичну складність. Хоча на малих об'ємах даних сортування вставками є більш ефективним, бо не потребує створення рекурсивих функцій в процесі сортування."
   ]
  },
  {
   "cell_type": "markdown",
   "metadata": {},
   "source": [
    "# * Необов'язкове завдання"
   ]
  },
  {
   "cell_type": "markdown",
   "metadata": {},
   "source": [
    "Дано k відсортованих списків цілих чисел. Ваше завдання — об'єднати їх у один відсортований список.\n",
    "\n",
    "При виконанні завдання можете опиратися на алгоритм сортування злиттям з конспекту.\n",
    "\n",
    "Реалізуйте функцію merge_k_lists , яка приймає на вхід список відсортованих списків та повертає відсортований список."
   ]
  },
  {
   "cell_type": "code",
   "execution_count": 129,
   "metadata": {},
   "outputs": [
    {
     "name": "stdout",
     "output_type": "stream",
     "text": [
      "Відсортований список: [1, 1, 2, 3, 4, 4, 5, 6]\n"
     ]
    }
   ],
   "source": [
    "def merge_k_lists(lists):\n",
    "    # Перевірка на випадок порожнього списку\n",
    "    if not lists:\n",
    "        return []\n",
    "\n",
    "    # Об'єднання списків за допомогою алгоритму злиття\n",
    "    while len(lists) > 1:\n",
    "        merged_lists = []\n",
    "        # Проходимо по списку парно, об'єднуючи кожні два сусідні списки\n",
    "        for i in range(0, len(lists), 2):\n",
    "            if i + 1 < len(lists):\n",
    "                # Якщо є два сусідні списки для об'єднання, викликаємо функцію merge\n",
    "                merged = merge(lists[i], lists[i + 1])\n",
    "            else:\n",
    "                # Якщо залишився лише один список, додаємо його без змін\n",
    "                merged = lists[i]\n",
    "            merged_lists.append(merged)\n",
    "        lists = merged_lists\n",
    "\n",
    "    # Повертаємо об'єднаний список\n",
    "    return lists[0]\n",
    "\n",
    "\n",
    "# Приклад використання:\n",
    "lists = [[1, 4, 5], [1, 3, 4], [2, 6]]\n",
    "merged_list = merge_k_lists(lists)\n",
    "print(\"Відсортований список:\", merged_list)"
   ]
  }
 ],
 "metadata": {
  "kernelspec": {
   "display_name": "Python 3",
   "language": "python",
   "name": "python3"
  },
  "language_info": {
   "codemirror_mode": {
    "name": "ipython",
    "version": 3
   },
   "file_extension": ".py",
   "mimetype": "text/x-python",
   "name": "python",
   "nbconvert_exporter": "python",
   "pygments_lexer": "ipython3",
   "version": "3.12.3"
  }
 },
 "nbformat": 4,
 "nbformat_minor": 2
}
